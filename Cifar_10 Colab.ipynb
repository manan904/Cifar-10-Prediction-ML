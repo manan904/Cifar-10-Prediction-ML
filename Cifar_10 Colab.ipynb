{
 "cells": [
  {
   "cell_type": "code",
   "execution_count": null,
   "metadata": {
    "colab": {
     "autoexec": {
      "startup": false,
      "wait_interval": 0
     }
    },
    "colab_type": "code",
    "collapsed": true,
    "id": "y0WJXP-vX-or"
   },
   "outputs": [],
   "source": [
    "!pip install -U -q PyDrive ## you will have install for every colab session\n",
    "from pydrive.auth import GoogleAuth\n",
    "from pydrive.drive import GoogleDrive\n",
    "from google.colab import auth\n",
    "from oauth2client.client import GoogleCredentials\n",
    "\n",
    "auth.authenticate_user()\n",
    "gauth = GoogleAuth()\n",
    "gauth.credentials = GoogleCredentials.get_application_default()\n",
    "drive = GoogleDrive(gauth)"
   ]
  },
  {
   "cell_type": "code",
   "execution_count": null,
   "metadata": {
    "colab": {
     "autoexec": {
      "startup": false,
      "wait_interval": 0
     },
     "base_uri": "https://localhost:8080/",
     "height": 85
    },
    "colab_type": "code",
    "executionInfo": {
     "elapsed": 5494,
     "status": "ok",
     "timestamp": 1528176035607,
     "user": {
      "displayName": "Manan Manwani",
      "photoUrl": "//lh5.googleusercontent.com/-L1rsYHDq5PM/AAAAAAAAAAI/AAAAAAAAADU/swpBbwxXGQA/s50-c-k-no/photo.jpg",
      "userId": "111063622751419793263"
     },
     "user_tz": -330
    },
    "id": "OLRbH80SdcAt",
    "outputId": "b28d4da9-dce1-4f8c-b2b2-174b845f4df5"
   },
   "outputs": [],
   "source": [
    "import numpy as np\n",
    "import matplotlib.pyplot as plt\n",
    "import pickle\n",
    "\n",
    "\n",
    "def unpickle(file):\n",
    " with open(file, 'rb') as f:\n",
    "  data = pickle.load(f, encoding='latin-1')\n",
    "  return data\n",
    "\n",
    "\n",
    "def load_cifar10_data():\n",
    " train_data = None\n",
    " train_labels = []\n",
    "\n",
    " for i in range(1, 6):\n",
    "  data_dic = unpickle(str(i))\n",
    "  if i == 1:\n",
    "   train_data = data_dic['data']\n",
    "  else:\n",
    "   train_data = np.vstack((train_data, data_dic['data']))\n",
    "  train_labels += data_dic['labels']\n",
    "\n",
    " test_data_dic = unpickle('6')\n",
    " test_data = test_data_dic['data']\n",
    " test_labels = test_data_dic['labels']\n",
    "\n",
    " #train_data = train_data.reshape((len(train_data), 3, 32, 32))\n",
    " #train_data = np.rollaxis(train_data, 1, 4)\n",
    " train_labels = np.array(train_labels)\n",
    "\n",
    " #test_data = test_data.reshape((len(test_data), 3, 32, 32))\n",
    " #test_data = np.rollaxis(test_data, 1, 4)\n",
    " test_labels = np.array(test_labels)\n",
    "\n",
    " return train_data, train_labels, test_data, test_labels\n",
    "\n",
    "data_batch1 = drive.CreateFile({'id':'1GKfLvStkQqW3f-GLdoHs7tJIm5xsa1Yh'})\n",
    "data_batch1.GetContentFile('1')\n",
    "\n",
    "data_batch2 = drive.CreateFile({'id':'120N_VXand8_l6KYBk82wtc4PzqCmWvIC'})\n",
    "data_batch2.GetContentFile('2')\n",
    "\n",
    "data_batch3 = drive.CreateFile({'id':'1TOHEZBxcnPNHVInkwDJkCDcKTjmHVqnk'})\n",
    "data_batch3.GetContentFile('3')\n",
    "\n",
    "data_batch4 = drive.CreateFile({'id':'1g-J9SJjxV35A8hm5wzJSI25ohYMLvKGi'})\n",
    "data_batch4.GetContentFile('4')\n",
    "\n",
    "data_batch5 = drive.CreateFile({'id':'12kd8o-PD_LJzXRRtZ8Wubr5BEc8vIo6r'})\n",
    "data_batch5.GetContentFile('5')\n",
    "\n",
    "test_batch = drive.CreateFile({'id':'1vjZlOwlS4rxkbt0lQMUgAhv8sVp9IbkO'})\n",
    "test_batch.GetContentFile('6')\n",
    "\n",
    "\n",
    "train_data, train_labels, test_data, test_labels = load_cifar10_data()\n",
    "\n",
    "print(train_data.shape)\n",
    "print(train_labels.shape)\n",
    "\n",
    "print(test_data.shape)\n",
    "print(test_labels.shape)\n",
    "\n",
    "# In order to check where the data shows an image correctly\n",
    "#plt.imshow(train_data[2])\n",
    "#plt.show()"
   ]
  },
  {
   "cell_type": "code",
   "execution_count": null,
   "metadata": {
    "colab": {
     "autoexec": {
      "startup": false,
      "wait_interval": 0
     },
     "base_uri": "https://localhost:8080/",
     "height": 357
    },
    "colab_type": "code",
    "executionInfo": {
     "elapsed": 26180,
     "status": "ok",
     "timestamp": 1528176074924,
     "user": {
      "displayName": "Manan Manwani",
      "photoUrl": "//lh5.googleusercontent.com/-L1rsYHDq5PM/AAAAAAAAAAI/AAAAAAAAADU/swpBbwxXGQA/s50-c-k-no/photo.jpg",
      "userId": "111063622751419793263"
     },
     "user_tz": -330
    },
    "id": "RVUx4vCudcA6",
    "outputId": "e8bcce79-c593-47c6-93e4-3f39a59d5ac7"
   },
   "outputs": [],
   "source": [
    "from sklearn import ensemble\n",
    "clf = ensemble.RandomForestClassifier(verbose=3)\n",
    "clf.fit(train_data,train_labels)"
   ]
  },
  {
   "cell_type": "code",
   "execution_count": null,
   "metadata": {
    "colab": {
     "autoexec": {
      "startup": false,
      "wait_interval": 0
     },
     "base_uri": "https://localhost:8080/",
     "height": 68
    },
    "colab_type": "code",
    "executionInfo": {
     "elapsed": 996,
     "status": "ok",
     "timestamp": 1528176081716,
     "user": {
      "displayName": "Manan Manwani",
      "photoUrl": "//lh5.googleusercontent.com/-L1rsYHDq5PM/AAAAAAAAAAI/AAAAAAAAADU/swpBbwxXGQA/s50-c-k-no/photo.jpg",
      "userId": "111063622751419793263"
     },
     "user_tz": -330
    },
    "id": "7_8t220ddcBA",
    "outputId": "61592df9-fed4-4000-e6c9-59969b9d45ba"
   },
   "outputs": [],
   "source": [
    "predict=clf.predict(test_data)"
   ]
  },
  {
   "cell_type": "code",
   "execution_count": null,
   "metadata": {
    "colab": {
     "autoexec": {
      "startup": false,
      "wait_interval": 0
     }
    },
    "colab_type": "code",
    "collapsed": true,
    "id": "ECWCPiV8dcBE"
   },
   "outputs": [],
   "source": [
    "np.savetxt(\"predict.csv\", predict.astype(int))"
   ]
  },
  {
   "cell_type": "code",
   "execution_count": null,
   "metadata": {
    "colab": {
     "autoexec": {
      "startup": false,
      "wait_interval": 0
     }
    },
    "colab_type": "code",
    "collapsed": true,
    "id": "_RAjizjxaVls"
   },
   "outputs": [],
   "source": [
    "from google.colab import files\n",
    "files.download('predict.csv')"
   ]
  }
 ],
 "metadata": {
  "accelerator": "GPU",
  "colab": {
   "collapsed_sections": [],
   "default_view": {},
   "name": "Cifar 10.ipynb",
   "provenance": [],
   "version": "0.3.2",
   "views": {}
  },
  "kernelspec": {
   "display_name": "Python 3",
   "language": "python",
   "name": "python3"
  },
  "language_info": {
   "codemirror_mode": {
    "name": "ipython",
    "version": 3
   },
   "file_extension": ".py",
   "mimetype": "text/x-python",
   "name": "python",
   "nbconvert_exporter": "python",
   "pygments_lexer": "ipython3",
   "version": "3.6.3"
  }
 },
 "nbformat": 4,
 "nbformat_minor": 1
}
